{
  "nbformat": 4,
  "nbformat_minor": 0,
  "metadata": {
    "colab": {
      "provenance": []
    },
    "kernelspec": {
      "name": "python3",
      "display_name": "Python 3"
    },
    "language_info": {
      "name": "python"
    }
  },
  "cells": [
    {
      "cell_type": "code",
      "execution_count": null,
      "metadata": {
        "id": "r68VAkNdur7M"
      },
      "outputs": [],
      "source": [
        "import torch\n",
        "\n",
        "\n",
        "class Model(torch.nn.Module):\n",
        "  def __init__(self, a: float=10.0, reparam=False):\n",
        "    super().__init__()\n",
        "    if reparam:\n",
        "      self._a = torch.nn.Parameter(torch.tensor(1.0))\n",
        "    else:\n",
        "      self._a = torch.nn.Parameter(torch.tensor(a))\n",
        "    self.reparam = reparam\n",
        "    self.scale = a\n",
        "  \n",
        "  @property\n",
        "  def a(self):\n",
        "    if self.reparam:\n",
        "      return self.scale * self._a\n",
        "    else:\n",
        "      return self._a"
      ]
    },
    {
      "cell_type": "code",
      "source": [
        "def loss(y, y_true=100):\n",
        "  return (y - y_true).pow(2)"
      ],
      "metadata": {
        "id": "ZrXKMhREvWiq"
      },
      "execution_count": null,
      "outputs": []
    },
    {
      "cell_type": "code",
      "source": [
        "model1 = Model()\n",
        "model2 = Model(reparam=True)\n",
        "lr = 1e-1\n",
        "optim1 = torch.optim.Adam(model1.parameters(), lr=lr)\n",
        "optim2 = torch.optim.Adam(model2.parameters(), lr=lr)\n",
        "\n",
        "a1 = []\n",
        "a2 = []\n",
        "for i in range(200):\n",
        "    optim1.zero_grad()\n",
        "    optim2.zero_grad()\n",
        "\n",
        "    loss1 = loss(model1.a)\n",
        "    loss2 = loss(model2.a)\n",
        "\n",
        "    loss1.backward()\n",
        "    loss2.backward()\n",
        "\n",
        "    a1.append(model1.a.item())\n",
        "    a2.append(model2.a.item())\n",
        "\n",
        "    optim1.step()\n",
        "    optim2.step()"
      ],
      "metadata": {
        "id": "LfDoWsKdvrgQ"
      },
      "execution_count": null,
      "outputs": []
    },
    {
      "cell_type": "code",
      "source": [
        "import matplotlib.pyplot as plt\n",
        "\n",
        "fig, ax = plt.subplots()\n",
        "ax.plot(a1, label=\"No reparam\")\n",
        "ax.plot(a2, label=\"Reparam\")\n",
        "ax.plot([100] * len(a1), label=\"\", ls=\"--\", color=\"gray\")\n",
        "ax.set(xlabel=\"Number of gradient updates\")\n",
        "ax.legend()"
      ],
      "metadata": {
        "colab": {
          "base_uri": "https://localhost:8080/",
          "height": 297
        },
        "id": "2ZwczVFPwSIV",
        "outputId": "d2903a06-2fb8-4df6-907b-b5cb40b2e856"
      },
      "execution_count": null,
      "outputs": [
        {
          "output_type": "execute_result",
          "data": {
            "text/plain": [
              "<matplotlib.legend.Legend at 0x7f0b020dfed0>"
            ]
          },
          "metadata": {},
          "execution_count": 23
        },
        {
          "output_type": "display_data",
          "data": {
            "text/plain": [
              "<Figure size 432x288 with 1 Axes>"
            ],
            "image/png": "[encoded data removed]"
          },
          "metadata": {
            "needs_background": "light"
          }
        }
      ]
    },
    {
      "cell_type": "code",
      "source": [],
      "metadata": {
        "id": "2-J_78pQyXIe"
      },
      "execution_count": null,
      "outputs": []
    }
  ]
}