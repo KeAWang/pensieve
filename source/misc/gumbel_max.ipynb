{
  "nbformat": 4,
  "nbformat_minor": 0,
  "metadata": {
    "colab": {
      "name": "gumbel-max.ipynb",
      "provenance": []
    },
    "kernelspec": {
      "name": "python3",
      "display_name": "Python 3"
    }
  },
  "cells": [
    {
      "cell_type": "code",
      "metadata": {
        "id": "LCN9Awe9fIOi"
      },
      "source": [
        "import numpy as np"
      ],
      "execution_count": null,
      "outputs": []
    },
    {
      "cell_type": "code",
      "metadata": {
        "id": "EclwIfp4fL6F"
      },
      "source": [
        "K = 10\n",
        "# Create a vector whose entries sum to 1\n",
        "p = np.random.randn(K) + 1e-3\n",
        "p = p**2 / (p**2).sum()"
      ],
      "execution_count": null,
      "outputs": []
    },
    {
      "cell_type": "code",
      "metadata": {
        "id": "Hl0jTdZafaRl"
      },
      "source": [
        "def sample_gumbel_max(shape):\n",
        "  return -np.log(-np.log(np.random.rand(*shape, K)))\n",
        "def sample_discrete(p, shape):\n",
        "  K = len(p)\n",
        "  # Use the gumbel-max trick to sample from discrete distribution given by p\n",
        "  # We take the logits and add -log(-log(U)) noise where U is uniform random\n",
        "  # The noise is a sample from the Gumbel distribution\n",
        "  samples = np.log(p) + sample_gumbel_max(shape)\n",
        "  samples = np.argmax(samples, axis=-1)\n",
        "  return samples"
      ],
      "execution_count": null,
      "outputs": []
    },
    {
      "cell_type": "code",
      "metadata": {
        "id": "r2WItJIxg8tx"
      },
      "source": [
        "samples = sample_discrete(p, (10000,))"
      ],
      "execution_count": null,
      "outputs": []
    },
    {
      "cell_type": "code",
      "metadata": {
        "id": "o77_XYQ0g_QY"
      },
      "source": [
        "from collections import Counter\n",
        "\n",
        "sample_counts = Counter(samples)\n",
        "freqs = np.array(list(sample_counts.values()))\n",
        "p_hat = freqs / freqs.sum()"
      ],
      "execution_count": null,
      "outputs": []
    },
    {
      "cell_type": "code",
      "metadata": {
        "id": "1KgUFBYehhph"
      },
      "source": [
        "import matplotlib.pyplot as plt\n",
        "\n",
        "%matplotlib inline"
      ],
      "execution_count": null,
      "outputs": []
    },
    {
      "cell_type": "code",
      "metadata": {
        "id": "sA9wj5HbheVs",
        "outputId": "ad8b35df-4be3-4ff3-d901-7089b95b535a",
        "colab": {
          "base_uri": "https://localhost:8080/",
          "height": 298
        }
      },
      "source": [
        "fig, axes = plt.subplots(ncols=2)\n",
        "axes[0].hist(p)\n",
        "axes[0].set_title(\"True\")\n",
        "axes[1].hist(p_hat)\n",
        "axes[1].set_title(\"Sampled\")"
      ],
      "execution_count": null,
      "outputs": [
        {
          "output_type": "execute_result",
          "data": {
            "text/plain": [
              "Text(0.5, 1.0, 'Sampled')"
            ]
          },
          "metadata": {
            "tags": []
          },
          "execution_count": 64
        },
        {
          "output_type": "display_data",
          "data": {
            "image/png": "[encoded data removed]",
            "text/plain": [
              "<Figure size 432x288 with 2 Axes>"
            ]
          },
          "metadata": {
            "tags": [],
            "needs_background": "light"
          }
        }
      ]
    },
    {
      "cell_type": "code",
      "metadata": {
        "id": "uNxl2dschfTG"
      },
      "source": [
        "def sample_discrete_approximate(p, shape, temperature=1):\n",
        "  K = len(p)\n",
        "  # Use the gumbel-max trick to sample from discrete distribution given by p\n",
        "  # We take the logits and add -log(-log(U)) noise where U is uniform random\n",
        "  # The noise is a sample from the Gumbel distribution\n",
        "  samples = np.log(p) + sample_gumbel_max(shape)\n",
        "  from scipy import special\n",
        "  samples = special.softmax(samples/temperature, axis=-1)\n",
        "  return samples"
      ],
      "execution_count": null,
      "outputs": []
    },
    {
      "cell_type": "code",
      "metadata": {
        "id": "ThEqPwryoWz5"
      },
      "source": [
        "samples = sample_discrete_approximate(p, (10000, ), temperature=1).argmax(-1)"
      ],
      "execution_count": null,
      "outputs": []
    },
    {
      "cell_type": "code",
      "metadata": {
        "id": "whaBuB4RqVl1"
      },
      "source": [
        "sample_counts = Counter(samples)\n",
        "freqs = np.array(list(sample_counts.values()))\n",
        "p_hat = freqs / freqs.sum()"
      ],
      "execution_count": null,
      "outputs": []
    },
    {
      "cell_type": "code",
      "metadata": {
        "id": "u0ownvVPoyEV",
        "outputId": "c96697e0-74a2-4f87-a0ad-7bce12ee5a1d",
        "colab": {
          "base_uri": "https://localhost:8080/",
          "height": 298
        }
      },
      "source": [
        "fig, axes = plt.subplots(ncols=2)\n",
        "axes[0].hist(p)\n",
        "axes[0].set_title(\"True\")\n",
        "axes[1].hist(p_hat)\n",
        "axes[1].set_title(\"Sampled\")"
      ],
      "execution_count": null,
      "outputs": [
        {
          "output_type": "execute_result",
          "data": {
            "text/plain": [
              "Text(0.5, 1.0, 'Sampled')"
            ]
          },
          "metadata": {
            "tags": []
          },
          "execution_count": 108
        },
        {
          "output_type": "display_data",
          "data": {
            "image/png": "[encoded data removed]",
            "text/plain": [
              "<Figure size 432x288 with 2 Axes>"
            ]
          },
          "metadata": {
            "tags": [],
            "needs_background": "light"
          }
        }
      ]
    },
    {
      "cell_type": "code",
      "metadata": {
        "id": "Raf4CE-OpynI"
      },
      "source": [
        ""
      ],
      "execution_count": null,
      "outputs": []
    }
  ]
}